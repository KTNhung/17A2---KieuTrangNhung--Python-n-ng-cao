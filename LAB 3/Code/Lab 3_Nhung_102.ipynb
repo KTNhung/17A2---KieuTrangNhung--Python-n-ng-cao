{
 "cells": [
  {
   "cell_type": "code",
   "execution_count": 73,
   "metadata": {},
   "outputs": [],
   "source": [
    "import pandas as pd "
   ]
  },
  {
   "cell_type": "markdown",
   "metadata": {},
   "source": [
    "LAB 3.1. KHÁM PHÁ DỮ LIỆU"
   ]
  },
  {
   "cell_type": "markdown",
   "metadata": {},
   "source": [
    "1. Đọc file"
   ]
  },
  {
   "cell_type": "code",
   "execution_count": 74,
   "metadata": {},
   "outputs": [],
   "source": [
    "path_stocks1 = 'D:\\\\Năm 2 (2024 - 20250\\\\Python nâng cao\\\\Bài tập\\\\LAB 3\\\\DATA\\\\stocks1.csv'\n",
    "stocks1_df = pd.read_csv(path_stocks1)"
   ]
  },
  {
   "cell_type": "markdown",
   "metadata": {},
   "source": [
    "2. Hiển thị 5 dòng đầu tiên"
   ]
  },
  {
   "cell_type": "code",
   "execution_count": 75,
   "metadata": {},
   "outputs": [
    {
     "name": "stdout",
     "output_type": "stream",
     "text": [
      "5 dòng đầu tiên của DataFrame stocks1_df:\n",
      "       date symbol     open     high      low    close   volume\n",
      "0  01-03-19   AMZN  1655.13  1674.26  1651.00  1671.73  4974877\n",
      "1  04-03-19   AMZN  1685.00  1709.43  1674.36  1696.17  6167358\n",
      "2  05-03-19   AMZN  1702.95  1707.80  1689.01  1692.43  3681522\n",
      "3  06-03-19   AMZN  1695.97      NaN      NaN  1668.95  3996001\n",
      "4  07-03-19   AMZN  1667.37  1669.75  1620.51  1625.95  4957017\n"
     ]
    }
   ],
   "source": [
    "print(\"5 dòng đầu tiên của DataFrame stocks1_df:\")\n",
    "print(stocks1_df.head())"
   ]
  },
  {
   "cell_type": "markdown",
   "metadata": {},
   "source": [
    "3. Hiển thị kiểu dữ liệu (dtype) của mỗi cột\n"
   ]
  },
  {
   "cell_type": "code",
   "execution_count": 76,
   "metadata": {},
   "outputs": [
    {
     "name": "stdout",
     "output_type": "stream",
     "text": [
      "Kiểu dữ liệu của mỗi cột trong stocks1_df:\n",
      "date       object\n",
      "symbol     object\n",
      "open      float64\n",
      "high      float64\n",
      "low       float64\n",
      "close     float64\n",
      "volume      int64\n",
      "dtype: object\n"
     ]
    }
   ],
   "source": [
    "print(\"Kiểu dữ liệu của mỗi cột trong stocks1_df:\")\n",
    "print(stocks1_df.dtypes)"
   ]
  },
  {
   "cell_type": "markdown",
   "metadata": {},
   "source": [
    "4. Xem thông tin tổng quan (info) của stocks1_df"
   ]
  },
  {
   "cell_type": "code",
   "execution_count": 77,
   "metadata": {},
   "outputs": [
    {
     "name": "stdout",
     "output_type": "stream",
     "text": [
      "Thông tin tổng quan của stocks1_df:\n",
      "<class 'pandas.core.frame.DataFrame'>\n",
      "RangeIndex: 15 entries, 0 to 14\n",
      "Data columns (total 7 columns):\n",
      " #   Column  Non-Null Count  Dtype  \n",
      "---  ------  --------------  -----  \n",
      " 0   date    15 non-null     object \n",
      " 1   symbol  15 non-null     object \n",
      " 2   open    15 non-null     float64\n",
      " 3   high    13 non-null     float64\n",
      " 4   low     13 non-null     float64\n",
      " 5   close   15 non-null     float64\n",
      " 6   volume  15 non-null     int64  \n",
      "dtypes: float64(4), int64(1), object(2)\n",
      "memory usage: 972.0+ bytes\n"
     ]
    }
   ],
   "source": [
    "print(\"Thông tin tổng quan của stocks1_df:\")\n",
    "stocks1_df.info()"
   ]
  },
  {
   "cell_type": "code",
   "execution_count": 78,
   "metadata": {},
   "outputs": [
    {
     "data": {
      "text/html": [
       "<div>\n",
       "<style scoped>\n",
       "    .dataframe tbody tr th:only-of-type {\n",
       "        vertical-align: middle;\n",
       "    }\n",
       "\n",
       "    .dataframe tbody tr th {\n",
       "        vertical-align: top;\n",
       "    }\n",
       "\n",
       "    .dataframe thead th {\n",
       "        text-align: right;\n",
       "    }\n",
       "</style>\n",
       "<table border=\"1\" class=\"dataframe\">\n",
       "  <thead>\n",
       "    <tr style=\"text-align: right;\">\n",
       "      <th></th>\n",
       "      <th>date</th>\n",
       "      <th>symbol</th>\n",
       "      <th>open</th>\n",
       "      <th>high</th>\n",
       "      <th>low</th>\n",
       "      <th>close</th>\n",
       "      <th>volume</th>\n",
       "    </tr>\n",
       "  </thead>\n",
       "  <tbody>\n",
       "    <tr>\n",
       "      <th>count</th>\n",
       "      <td>15</td>\n",
       "      <td>15</td>\n",
       "      <td>15.000000</td>\n",
       "      <td>13.000000</td>\n",
       "      <td>13.000000</td>\n",
       "      <td>15.000000</td>\n",
       "      <td>1.500000e+01</td>\n",
       "    </tr>\n",
       "    <tr>\n",
       "      <th>unique</th>\n",
       "      <td>5</td>\n",
       "      <td>3</td>\n",
       "      <td>NaN</td>\n",
       "      <td>NaN</td>\n",
       "      <td>NaN</td>\n",
       "      <td>NaN</td>\n",
       "      <td>NaN</td>\n",
       "    </tr>\n",
       "    <tr>\n",
       "      <th>top</th>\n",
       "      <td>01-03-19</td>\n",
       "      <td>AMZN</td>\n",
       "      <td>NaN</td>\n",
       "      <td>NaN</td>\n",
       "      <td>NaN</td>\n",
       "      <td>NaN</td>\n",
       "      <td>NaN</td>\n",
       "    </tr>\n",
       "    <tr>\n",
       "      <th>freq</th>\n",
       "      <td>3</td>\n",
       "      <td>5</td>\n",
       "      <td>NaN</td>\n",
       "      <td>NaN</td>\n",
       "      <td>NaN</td>\n",
       "      <td>NaN</td>\n",
       "      <td>NaN</td>\n",
       "    </tr>\n",
       "    <tr>\n",
       "      <th>mean</th>\n",
       "      <td>NaN</td>\n",
       "      <td>NaN</td>\n",
       "      <td>1001.402000</td>\n",
       "      <td>943.511538</td>\n",
       "      <td>926.775385</td>\n",
       "      <td>998.705333</td>\n",
       "      <td>9.936580e+06</td>\n",
       "    </tr>\n",
       "    <tr>\n",
       "      <th>std</th>\n",
       "      <td>NaN</td>\n",
       "      <td>NaN</td>\n",
       "      <td>645.683362</td>\n",
       "      <td>668.389987</td>\n",
       "      <td>655.705275</td>\n",
       "      <td>642.198730</td>\n",
       "      <td>1.036832e+07</td>\n",
       "    </tr>\n",
       "    <tr>\n",
       "      <th>min</th>\n",
       "      <td>NaN</td>\n",
       "      <td>NaN</td>\n",
       "      <td>173.870000</td>\n",
       "      <td>174.440000</td>\n",
       "      <td>172.020000</td>\n",
       "      <td>172.500000</td>\n",
       "      <td>1.099289e+06</td>\n",
       "    </tr>\n",
       "    <tr>\n",
       "      <th>25%</th>\n",
       "      <td>NaN</td>\n",
       "      <td>NaN</td>\n",
       "      <td>175.815000</td>\n",
       "      <td>176.000000</td>\n",
       "      <td>173.970000</td>\n",
       "      <td>175.690000</td>\n",
       "      <td>1.448182e+06</td>\n",
       "    </tr>\n",
       "    <tr>\n",
       "      <th>50%</th>\n",
       "      <td>NaN</td>\n",
       "      <td>NaN</td>\n",
       "      <td>1150.060000</td>\n",
       "      <td>1156.760000</td>\n",
       "      <td>1130.690000</td>\n",
       "      <td>1147.800000</td>\n",
       "      <td>4.957017e+06</td>\n",
       "    </tr>\n",
       "    <tr>\n",
       "      <th>75%</th>\n",
       "      <td>NaN</td>\n",
       "      <td>NaN</td>\n",
       "      <td>1661.250000</td>\n",
       "      <td>1669.750000</td>\n",
       "      <td>1620.510000</td>\n",
       "      <td>1647.450000</td>\n",
       "      <td>2.027390e+07</td>\n",
       "    </tr>\n",
       "    <tr>\n",
       "      <th>max</th>\n",
       "      <td>NaN</td>\n",
       "      <td>NaN</td>\n",
       "      <td>1702.950000</td>\n",
       "      <td>1709.430000</td>\n",
       "      <td>1689.010000</td>\n",
       "      <td>1696.170000</td>\n",
       "      <td>2.743620e+07</td>\n",
       "    </tr>\n",
       "  </tbody>\n",
       "</table>\n",
       "</div>"
      ],
      "text/plain": [
       "            date symbol         open         high          low        close  \\\n",
       "count         15     15    15.000000    13.000000    13.000000    15.000000   \n",
       "unique         5      3          NaN          NaN          NaN          NaN   \n",
       "top     01-03-19   AMZN          NaN          NaN          NaN          NaN   \n",
       "freq           3      5          NaN          NaN          NaN          NaN   \n",
       "mean         NaN    NaN  1001.402000   943.511538   926.775385   998.705333   \n",
       "std          NaN    NaN   645.683362   668.389987   655.705275   642.198730   \n",
       "min          NaN    NaN   173.870000   174.440000   172.020000   172.500000   \n",
       "25%          NaN    NaN   175.815000   176.000000   173.970000   175.690000   \n",
       "50%          NaN    NaN  1150.060000  1156.760000  1130.690000  1147.800000   \n",
       "75%          NaN    NaN  1661.250000  1669.750000  1620.510000  1647.450000   \n",
       "max          NaN    NaN  1702.950000  1709.430000  1689.010000  1696.170000   \n",
       "\n",
       "              volume  \n",
       "count   1.500000e+01  \n",
       "unique           NaN  \n",
       "top              NaN  \n",
       "freq             NaN  \n",
       "mean    9.936580e+06  \n",
       "std     1.036832e+07  \n",
       "min     1.099289e+06  \n",
       "25%     1.448182e+06  \n",
       "50%     4.957017e+06  \n",
       "75%     2.027390e+07  \n",
       "max     2.743620e+07  "
      ]
     },
     "execution_count": 78,
     "metadata": {},
     "output_type": "execute_result"
    }
   ],
   "source": [
    "#Sử dụng hàm describe(), để thống kê dữ liệu cả dạng số và chuỗi\n",
    "stocks1_df.describe(include='all')"
   ]
  },
  {
   "cell_type": "markdown",
   "metadata": {},
   "source": [
    "- unique: số giá trị khác nhau\n",
    "- top: giá trị xuất hiện nhiều nhất (top)\n",
    "- freq: tần suất của giá trị đó"
   ]
  },
  {
   "cell_type": "markdown",
   "metadata": {},
   "source": [
    "LAB 3.2. XỬ LÝ DỮ LIỆU NULL\n"
   ]
  },
  {
   "cell_type": "markdown",
   "metadata": {},
   "source": [
    "1. Kiểm tra xem trong stocks 1 có dữ liệu Null nào không"
   ]
  },
  {
   "cell_type": "code",
   "execution_count": 79,
   "metadata": {},
   "outputs": [
    {
     "name": "stdout",
     "output_type": "stream",
     "text": [
      "Kiểm tra dữ liệu Null trong stocks1_df:\n",
      "date      0\n",
      "symbol    0\n",
      "open      0\n",
      "high      2\n",
      "low       2\n",
      "close     0\n",
      "volume    0\n",
      "dtype: int64\n"
     ]
    }
   ],
   "source": [
    "print(\"Kiểm tra dữ liệu Null trong stocks1_df:\")\n",
    "kt_null = stocks1_df.isnull().sum()\n",
    "print(kt_null)"
   ]
  },
  {
   "cell_type": "markdown",
   "metadata": {},
   "source": [
    "2. Thay thế dữ liệu Null ở cột higt bằng giá trị trung bình của cột high\n"
   ]
  },
  {
   "cell_type": "code",
   "execution_count": 80,
   "metadata": {},
   "outputs": [
    {
     "name": "stderr",
     "output_type": "stream",
     "text": [
      "D:\\TEMP\\ipykernel_11272\\1009930299.py:2: FutureWarning: A value is trying to be set on a copy of a DataFrame or Series through chained assignment using an inplace method.\n",
      "The behavior will change in pandas 3.0. This inplace method will never work because the intermediate object on which we are setting values always behaves as a copy.\n",
      "\n",
      "For example, when doing 'df[col].method(value, inplace=True)', try using 'df.method({col: value}, inplace=True)' or df[col] = df[col].method(value) instead, to perform the operation inplace on the original object.\n",
      "\n",
      "\n",
      "  stocks1_df['high'].fillna(tb_high, inplace=True)\n"
     ]
    }
   ],
   "source": [
    "tb_high = stocks1_df['high'].mean()\n",
    "stocks1_df['high'].fillna(tb_high, inplace=True)\n",
    "\n"
   ]
  },
  {
   "cell_type": "code",
   "execution_count": 81,
   "metadata": {},
   "outputs": [
    {
     "name": "stdout",
     "output_type": "stream",
     "text": [
      "DataFrame stocks1_df sau khi thay thế dữ liệu Null ở cột high:\n",
      "       date symbol     open         high      low    close   volume\n",
      "0  01-03-19   AMZN  1655.13  1674.260000  1651.00  1671.73  4974877\n",
      "1  04-03-19   AMZN  1685.00  1709.430000  1674.36  1696.17  6167358\n",
      "2  05-03-19   AMZN  1702.95  1707.800000  1689.01  1692.43  3681522\n",
      "3  06-03-19   AMZN  1695.97   943.511538      NaN  1668.95  3996001\n",
      "4  07-03-19   AMZN  1667.37  1669.750000  1620.51  1625.95  4957017\n"
     ]
    }
   ],
   "source": [
    "#Hiển thị DataFrame sau khi thay thế dữ liệu Null ở cột high\n",
    "print(\"DataFrame stocks1_df sau khi thay thế dữ liệu Null ở cột high:\")\n",
    "print(stocks1_df.head())"
   ]
  },
  {
   "cell_type": "markdown",
   "metadata": {},
   "source": [
    "3. Thay thế dữ liệu Null ở cột low bằng giá trị trung bình của cột low\n"
   ]
  },
  {
   "cell_type": "code",
   "execution_count": 82,
   "metadata": {},
   "outputs": [
    {
     "name": "stderr",
     "output_type": "stream",
     "text": [
      "D:\\TEMP\\ipykernel_11272\\3884082070.py:2: FutureWarning: A value is trying to be set on a copy of a DataFrame or Series through chained assignment using an inplace method.\n",
      "The behavior will change in pandas 3.0. This inplace method will never work because the intermediate object on which we are setting values always behaves as a copy.\n",
      "\n",
      "For example, when doing 'df[col].method(value, inplace=True)', try using 'df.method({col: value}, inplace=True)' or df[col] = df[col].method(value) instead, to perform the operation inplace on the original object.\n",
      "\n",
      "\n",
      "  stocks1_df['low'].fillna(tb_low, inplace=True)\n"
     ]
    }
   ],
   "source": [
    "tb_low = stocks1_df['low'].mean()\n",
    "stocks1_df['low'].fillna(tb_low, inplace=True)"
   ]
  },
  {
   "cell_type": "code",
   "execution_count": 83,
   "metadata": {},
   "outputs": [
    {
     "name": "stdout",
     "output_type": "stream",
     "text": [
      "Kiểm tra lại dữ liệu Null sau khi xử lý:\n",
      "0\n"
     ]
    }
   ],
   "source": [
    "#kiểm tra lại DataFrame sau khi xử lý Null\n",
    "print(\"Kiểm tra lại dữ liệu Null sau khi xử lý:\")\n",
    "after_kl_null = stocks1_df['low'].isnull().sum()\n",
    "print(after_kl_null)"
   ]
  },
  {
   "cell_type": "code",
   "execution_count": 84,
   "metadata": {},
   "outputs": [
    {
     "name": "stdout",
     "output_type": "stream",
     "text": [
      "Kiểm tra lại dữ liệu Null sau khi xử lý:\n",
      "date      0\n",
      "symbol    0\n",
      "open      0\n",
      "high      0\n",
      "low       0\n",
      "close     0\n",
      "volume    0\n",
      "dtype: int64\n"
     ]
    }
   ],
   "source": [
    "#Kiểm tra lại DataFrame sau khi xử lý Null\n",
    "print(\"Kiểm tra lại dữ liệu Null sau khi xử lý:\")\n",
    "after_kl_null = stocks1_df.isnull().sum()\n",
    "print(after_kl_null)"
   ]
  },
  {
   "cell_type": "markdown",
   "metadata": {},
   "source": [
    "LAB 3.3. GỘP DỮ LIỆU VÀ PHÂN TÍCH CƠ BẢN"
   ]
  },
  {
   "cell_type": "markdown",
   "metadata": {},
   "source": [
    "1. Đọc file\n"
   ]
  },
  {
   "cell_type": "code",
   "execution_count": 85,
   "metadata": {},
   "outputs": [],
   "source": [
    "path_stocks2 = \"D:\\\\Năm 2 (2024 - 20250\\\\Python nâng cao\\\\Bài tập\\\\LAB 3\\\\DATA\\\\stocks2.csv\"\n",
    "stocks2_df = pd.read_csv(path_stocks2)"
   ]
  },
  {
   "cell_type": "markdown",
   "metadata": {},
   "source": [
    "2. Gộp stocks1 và stocks2 thành DataFrame tên là stocks"
   ]
  },
  {
   "cell_type": "code",
   "execution_count": 86,
   "metadata": {},
   "outputs": [
    {
     "name": "stdout",
     "output_type": "stream",
     "text": [
      "DataFrame sau khi gộp stocks1_df và stocks2_df:\n",
      "       date symbol     open         high          low    close   volume\n",
      "0  01-03-19   AMZN  1655.13  1674.260000  1651.000000  1671.73  4974877\n",
      "1  04-03-19   AMZN  1685.00  1709.430000  1674.360000  1696.17  6167358\n",
      "2  05-03-19   AMZN  1702.95  1707.800000  1689.010000  1692.43  3681522\n",
      "3  06-03-19   AMZN  1695.97   943.511538   926.775385  1668.95  3996001\n",
      "4  07-03-19   AMZN  1667.37  1669.750000  1620.510000  1625.95  4957017\n",
      "Thông tin tổng quan của DataFrame stocks_df sau khi gộp:\n",
      "<class 'pandas.core.frame.DataFrame'>\n",
      "RangeIndex: 25 entries, 0 to 24\n",
      "Data columns (total 7 columns):\n",
      " #   Column  Non-Null Count  Dtype  \n",
      "---  ------  --------------  -----  \n",
      " 0   date    25 non-null     object \n",
      " 1   symbol  25 non-null     object \n",
      " 2   open    25 non-null     float64\n",
      " 3   high    25 non-null     float64\n",
      " 4   low     25 non-null     float64\n",
      " 5   close   25 non-null     float64\n",
      " 6   volume  25 non-null     int64  \n",
      "dtypes: float64(4), int64(1), object(2)\n",
      "memory usage: 1.5+ KB\n"
     ]
    }
   ],
   "source": [
    "#Sử dụng phương thức concat() để gộp dữ liệu\n",
    "#ignore_index=True. khi đặt là True, nó sẽ tạo ra một index mới,\n",
    "#Tạo lại từ đầu cho DataFrame kết quả từ 0 đến n - 1 (với n là tổng\n",
    "#số hàng trong DataFrame kết quả).\n",
    "stocks_df = pd.concat([stocks1_df, stocks2_df], ignore_index=True)\n",
    "\n",
    "#Hiển thị DataFrame sau khi gộp\n",
    "print(\"DataFrame sau khi gộp stocks1_df và stocks2_df:\")\n",
    "print(stocks_df.head())\n",
    "print(\"Thông tin tổng quan của DataFrame stocks_df sau khi gộp:\")\n",
    "stocks_df.info()"
   ]
  },
  {
   "cell_type": "markdown",
   "metadata": {},
   "source": [
    "3. Tính giá trung bình (open, high, low, close) cho mỗi ngày\n"
   ]
  },
  {
   "cell_type": "code",
   "execution_count": 87,
   "metadata": {},
   "outputs": [
    {
     "name": "stdout",
     "output_type": "stream",
     "text": [
      "giá trung bình (open, high, low, close) cho mỗi ngày:\n",
      "             open        high         low    close\n",
      "date                                              \n",
      "01-03-19  684.770  692.528400  680.446000  688.952\n",
      "04-03-19  693.940  702.392000  685.126000  694.510\n",
      "05-03-19  695.664  656.638308  645.395077  695.558\n",
      "06-03-19  696.502  548.329468  540.373077  690.016\n",
      "07-03-19  689.460  691.478000  673.860000  677.494\n"
     ]
    }
   ],
   "source": [
    "gia_tb_per_day = stocks_df.groupby('date')[['open', 'high', 'low', 'close']].mean()\n",
    "\n",
    "#Hiển thi 5 dòng đầu tiên của kết quả\n",
    "print(\"giá trung bình (open, high, low, close) cho mỗi ngày:\")\n",
    "print(gia_tb_per_day.head())"
   ]
  },
  {
   "cell_type": "markdown",
   "metadata": {},
   "source": [
    "LAB 3.4. KẾT HỢP DỮ LIỆU TỪ NHIỀU NGUỒN\n"
   ]
  },
  {
   "cell_type": "code",
   "execution_count": 88,
   "metadata": {},
   "outputs": [],
   "source": [
    "path_companies = 'D:\\\\Năm 2 (2024 - 20250\\\\Python nâng cao\\\\Bài tập\\\\LAB 3\\\\DATA\\\\companies.csv'\n",
    "companies_df = pd.read_csv(path_companies)"
   ]
  },
  {
   "cell_type": "markdown",
   "metadata": {},
   "source": [
    "1. Hiển thị 5 dòng đầu của companies"
   ]
  },
  {
   "cell_type": "code",
   "execution_count": 89,
   "metadata": {},
   "outputs": [
    {
     "name": "stdout",
     "output_type": "stream",
     "text": [
      "5 dòng đầu tiên của companies:\n",
      "   name  employees headquarters_city headquarters_state\n",
      "0  AMZN     613300           Seattle                 WA\n",
      "1  GOOG      98771     Mountain View                 CA\n",
      "2  AAPL     132000         Cupertino                 CA\n",
      "3    FB      48268        Menlo Park                 CA\n",
      "4  TSLA      48016         Palo Alto                 CA\n"
     ]
    }
   ],
   "source": [
    "print(\"5 dòng đầu tiên của companies:\")\n",
    "print(companies_df.head())"
   ]
  },
  {
   "cell_type": "markdown",
   "metadata": {},
   "source": [
    "2. Kết hợp stocks và companies dựa trên cột chung là symbol"
   ]
  }
 ],
 "metadata": {
  "kernelspec": {
   "display_name": "base",
   "language": "python",
   "name": "python3"
  },
  "language_info": {
   "codemirror_mode": {
    "name": "ipython",
    "version": 3
   },
   "file_extension": ".py",
   "mimetype": "text/x-python",
   "name": "python",
   "nbconvert_exporter": "python",
   "pygments_lexer": "ipython3",
   "version": "3.12.4"
  }
 },
 "nbformat": 4,
 "nbformat_minor": 2
}
