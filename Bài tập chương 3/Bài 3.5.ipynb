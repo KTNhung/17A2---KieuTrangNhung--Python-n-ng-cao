{
 "cells": [
  {
   "cell_type": "code",
   "execution_count": 1,
   "metadata": {},
   "outputs": [],
   "source": [
    "import numpy as np \n",
    "\n",
    "arr_height = np.loadtxt('heights_1.txt', delimiter=\",\", encoding='utf-8-sig')\n",
    "arr_weight = np.genfromtxt('weights_1.txt', delimiter=\",\", encoding='utf-8-sig')"
   ]
  },
  {
   "cell_type": "code",
   "execution_count": 18,
   "metadata": {},
   "outputs": [
    {
     "data": {
      "text/plain": [
       "array([1.8796, 1.8796, 1.8288, ..., 1.905 , 1.905 , 1.8542])"
      ]
     },
     "execution_count": 18,
     "metadata": {},
     "output_type": "execute_result"
    }
   ],
   "source": [
    "#4\n",
    "arr_height_m = arr_height * 0.0254\n",
    "#5\n",
    "arr_weight_kg = arr_weight * 0.453592\n",
    "\n",
    "arr_bmi = arr_weight_kg/(arr_height_m**2)\n"
   ]
  },
  {
   "cell_type": "code",
   "execution_count": 9,
   "metadata": {},
   "outputs": [
    {
     "data": {
      "text/plain": [
       "90.7184"
      ]
     },
     "execution_count": 9,
     "metadata": {},
     "output_type": "execute_result"
    }
   ],
   "source": [
    "#6\n",
    "arr_weight_kg[50]"
   ]
  },
  {
   "cell_type": "code",
   "execution_count": 32,
   "metadata": {},
   "outputs": [
    {
     "name": "stdout",
     "output_type": "stream",
     "text": [
      "1.8541999999999998\n",
      "1.8796\n",
      "1.8288\n",
      "1.8541999999999998\n",
      "1.7526\n",
      "1.8288\n",
      "1.8541999999999998\n",
      "1.905\n",
      "1.905\n",
      "1.8541999999999998\n",
      "1.8288\n"
     ]
    }
   ],
   "source": [
    "#7\n",
    "for i in range(100, 111):\n",
    "    arr_height_m_100 = arr_height_m[i]\n",
    "    \n",
    "    print(arr_height_m_100)"
   ]
  },
  {
   "cell_type": "code",
   "execution_count": 34,
   "metadata": {},
   "outputs": [
    {
     "data": {
      "text/plain": [
       "array([20.54255679, 20.54255679, 20.69282047, 20.69282047, 20.34343189,\n",
       "       20.34343189, 20.69282047, 20.15883472, 19.4984471 , 20.69282047,\n",
       "       20.9205219 ])"
      ]
     },
     "execution_count": 34,
     "metadata": {},
     "output_type": "execute_result"
    }
   ],
   "source": [
    "#8\n",
    "arr_bmi_21 = arr_bmi[arr_bmi < 21]\n",
    "arr_bmi_21"
   ]
  },
  {
   "cell_type": "code",
   "execution_count": 38,
   "metadata": {},
   "outputs": [
    {
     "name": "stdout",
     "output_type": "stream",
     "text": [
      "Chiều cao trung bình của cầu thủ: 1.8717172413793102\n",
      "Cân nặng trung bình của cầu thủ: 91.33019058916256\n"
     ]
    }
   ],
   "source": [
    "#9 Chiều cao cân nặng trung bình\n",
    "chieu_cao = arr_height_m.mean()\n",
    "print(\"Chiều cao trung bình của cầu thủ:\", chieu_cao)\n",
    "can_nang = arr_weight_kg.mean()\n",
    "print(\"Cân nặng trung bình của cầu thủ:\", can_nang)\n",
    "\n",
    "\n"
   ]
  },
  {
   "cell_type": "code",
   "execution_count": 39,
   "metadata": {},
   "outputs": [
    {
     "name": "stdout",
     "output_type": "stream",
     "text": [
      "Chiều cao lớn nhất của cầu thủ: 2.1082\n",
      "Cân nặng lớn nhất của cầu thủ: 131.54167999999999\n"
     ]
    }
   ],
   "source": [
    "#10 Chiều cao và cân nặng lớn nhất\n",
    "max_chieu_cao = arr_height_m.max()\n",
    "max_can_nang = arr_weight_kg.max()\n",
    "print(\"Chiều cao lớn nhất của cầu thủ:\",max_chieu_cao)\n",
    "print(\"Cân nặng lớn nhất của cầu thủ:\",max_can_nang)"
   ]
  },
  {
   "cell_type": "code",
   "execution_count": null,
   "metadata": {},
   "outputs": [],
   "source": []
  }
 ],
 "metadata": {
  "kernelspec": {
   "display_name": "base",
   "language": "python",
   "name": "python3"
  },
  "language_info": {
   "codemirror_mode": {
    "name": "ipython",
    "version": 3
   },
   "file_extension": ".py",
   "mimetype": "text/x-python",
   "name": "python",
   "nbconvert_exporter": "python",
   "pygments_lexer": "ipython3",
   "version": "3.12.4"
  }
 },
 "nbformat": 4,
 "nbformat_minor": 2
}
