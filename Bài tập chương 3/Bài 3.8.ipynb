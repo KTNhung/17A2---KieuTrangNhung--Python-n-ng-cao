{
 "cells": [
  {
   "cell_type": "code",
   "execution_count": 1,
   "metadata": {},
   "outputs": [],
   "source": [
    "import numpy as np"
   ]
  },
  {
   "cell_type": "code",
   "execution_count": 7,
   "metadata": {},
   "outputs": [
    {
     "data": {
      "text/plain": [
       "array(['GK', 'M', 'A', ..., 'D', 'D', 'M'], dtype='<U2')"
      ]
     },
     "execution_count": 7,
     "metadata": {},
     "output_type": "execute_result"
    }
   ],
   "source": [
    "arr_height = np.loadtxt('heights.txt', delimiter=\",\", encoding='utf-8-sig')\n",
    "arr_position = np.genfromtxt('positions.txt', delimiter=\",\", dtype=str, encoding='utf-8-sig')\n",
    "\n",
    "arr_height\n",
    "arr_position\n"
   ]
  },
  {
   "cell_type": "markdown",
   "metadata": {},
   "source": [
    "1.\n"
   ]
  },
  {
   "cell_type": "code",
   "execution_count": 9,
   "metadata": {},
   "outputs": [
    {
     "name": "stdout",
     "output_type": "stream",
     "text": [
      "Kiểu dữ liệu của np_height là: <class 'numpy.ndarray'>\n",
      "Kiểu dữ liệu của np_positions là: <class 'numpy.ndarray'>\n"
     ]
    }
   ],
   "source": [
    "np_heights = np.array(arr_height)\n",
    "np_positions = np.array(arr_position)\n",
    "\n",
    "print(\"Kiểu dữ liệu của np_height là:\", type(np_heights))\n",
    "print(\"Kiểu dữ liệu của np_positions là:\", type(np_positions))\n"
   ]
  },
  {
   "cell_type": "markdown",
   "metadata": {},
   "source": [
    "2."
   ]
  },
  {
   "cell_type": "code",
   "execution_count": 10,
   "metadata": {},
   "outputs": [
    {
     "name": "stdout",
     "output_type": "stream",
     "text": [
      "Chiều cao trung bình của các GK: 188.23333333333332\n"
     ]
    }
   ],
   "source": [
    "gk_heights = arr_height[arr_position == 'GK']\n",
    "print(\"Chiều cao trung bình của các GK:\", gk_heights.mean())"
   ]
  },
  {
   "cell_type": "code",
   "execution_count": 11,
   "metadata": {},
   "outputs": [
    {
     "name": "stdout",
     "output_type": "stream",
     "text": [
      "Chiều cao trung bình của các GK: 180.98888467853985\n"
     ]
    }
   ],
   "source": [
    "heights = arr_height[arr_position != 'GK']\n",
    "print(\"Chiều cao trung bình của các GK:\", heights.mean())"
   ]
  },
  {
   "cell_type": "code",
   "execution_count": 14,
   "metadata": {},
   "outputs": [
    {
     "name": "stdout",
     "output_type": "stream",
     "text": [
      "[('GK', 190.5) ('D', 180.3) ('M', 175.8) ('A', 185.2)]\n"
     ]
    }
   ],
   "source": [
    "dtype = np.dtype([('position', 'U5'), ('height', 'float')])\n",
    "players = np.array([ ('GK', 190.5), ('D', 180.3), ('M', 175.8), ('A', 185.2)], dtype=dtype)\n",
    "print(players)"
   ]
  },
  {
   "cell_type": "code",
   "execution_count": 15,
   "metadata": {},
   "outputs": [
    {
     "name": "stdout",
     "output_type": "stream",
     "text": [
      "[('M', 175.8) ('D', 180.3) ('A', 185.2) ('GK', 190.5)]\n"
     ]
    }
   ],
   "source": [
    "sap_xep = np.sort(players, order='height')\n",
    "print(sap_xep)"
   ]
  },
  {
   "cell_type": "code",
   "execution_count": 17,
   "metadata": {},
   "outputs": [
    {
     "name": "stdout",
     "output_type": "stream",
     "text": [
      "Vị trí có chiều cao thấp nhất: M với chiều cao 175.8 cm\n",
      "Vị trí có chiều cao cao nhất: GK với chiều cao 190.5 cm\n"
     ]
    }
   ],
   "source": [
    "# Vị trí có chiều cao thấp nhất\n",
    "min_height_position = sap_xep[0]['position']\n",
    "min_height_value = sap_xep[0]['height']\n",
    "\n",
    "# Vị trí có chiều cao cao nhất\n",
    "max_height_position = sap_xep[-1]['position']\n",
    "max_height_value = sap_xep[-1]['height']\n",
    "\n",
    "# Hiển thị kết quả\n",
    "print(f\"Vị trí có chiều cao thấp nhất: {min_height_position} với chiều cao {min_height_value} cm\")\n",
    "print(f\"Vị trí có chiều cao cao nhất: {max_height_position} với chiều cao {max_height_value} cm\")\n"
   ]
  }
 ],
 "metadata": {
  "kernelspec": {
   "display_name": "base",
   "language": "python",
   "name": "python3"
  },
  "language_info": {
   "codemirror_mode": {
    "name": "ipython",
    "version": 3
   },
   "file_extension": ".py",
   "mimetype": "text/x-python",
   "name": "python",
   "nbconvert_exporter": "python",
   "pygments_lexer": "ipython3",
   "version": "3.12.4"
  }
 },
 "nbformat": 4,
 "nbformat_minor": 2
}
