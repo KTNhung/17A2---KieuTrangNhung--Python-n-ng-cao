{
 "cells": [
  {
   "cell_type": "code",
   "execution_count": null,
   "metadata": {},
   "outputs": [
    {
     "name": "stdout",
     "output_type": "stream",
     "text": [
      "Mảng: [0 1 2 3 4 5 6 7 8 9]\n",
      "Kiểu dữ liệu: int32\n",
      "Kích thước: 10\n"
     ]
    }
   ],
   "source": [
    "import numpy as np \n",
    "arr = np.arange(10)\n",
    "print(\"Mảng:\", arr)\n",
    "print(\"Kiểu dữ liệu:\",arr.dtype)\n",
    "print(\"Kích thước:\", arr.shape)\n",
    "\n"
   ]
  },
  {
   "cell_type": "code",
   "execution_count": 13,
   "metadata": {},
   "outputs": [
    {
     "name": "stdout",
     "output_type": "stream",
     "text": [
      "Mảng arr_odd: [1 3 5 7 9]\n",
      "Mảng arr_even: [0 2 4 6 8]\n"
     ]
    }
   ],
   "source": [
    "arr_odd = arr[arr % 2 != 0]\n",
    "arr_even = arr[arr % 2 == 0]\n",
    "print(\"Mảng arr_odd:\", arr_odd)\n",
    "print(\"Mảng arr_even:\", arr_even)"
   ]
  },
  {
   "cell_type": "code",
   "execution_count": 19,
   "metadata": {},
   "outputs": [
    {
     "name": "stdout",
     "output_type": "stream",
     "text": [
      "Mảng arr_update_1: [  0 100   2 100   4 100   6 100   8 100]\n"
     ]
    }
   ],
   "source": [
    "arr_update_1 = np.where(arr % 2 == 0, arr, 100)\n",
    "print(\"Mảng arr_update_1:\", arr_update_1)"
   ]
  }
 ],
 "metadata": {
  "kernelspec": {
   "display_name": "base",
   "language": "python",
   "name": "python3"
  },
  "language_info": {
   "codemirror_mode": {
    "name": "ipython",
    "version": 3
   },
   "file_extension": ".py",
   "mimetype": "text/x-python",
   "name": "python",
   "nbconvert_exporter": "python",
   "pygments_lexer": "ipython3",
   "version": "3.12.4"
  }
 },
 "nbformat": 4,
 "nbformat_minor": 2
}
