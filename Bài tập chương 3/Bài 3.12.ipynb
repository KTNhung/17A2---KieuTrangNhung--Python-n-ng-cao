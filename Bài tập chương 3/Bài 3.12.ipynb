{
 "cells": [
  {
   "cell_type": "code",
   "execution_count": 2,
   "metadata": {},
   "outputs": [
    {
     "name": "stdout",
     "output_type": "stream",
     "text": [
      "5 dòng dữ liệu đầu tiên của movies:\n",
      "   movieId                               title  \\\n",
      "0        1                    Toy Story (1995)   \n",
      "1        2                      Jumanji (1995)   \n",
      "2        3             Grumpier Old Men (1995)   \n",
      "3        4            Waiting to Exhale (1995)   \n",
      "4        5  Father of the Bride Part II (1995)   \n",
      "\n",
      "                                        genres  \n",
      "0  Adventure|Animation|Children|Comedy|Fantasy  \n",
      "1                   Adventure|Children|Fantasy  \n",
      "2                               Comedy|Romance  \n",
      "3                         Comedy|Drama|Romance  \n",
      "4                                       Comedy  \n",
      "5 dòng dữ liệu đầu tiên của ratings:\n",
      "   userId  movieId  rating  timestamp\n",
      "0       1        1     4.0  964982703\n",
      "1       1        3     4.0  964981247\n",
      "2       1        6     4.0  964982224\n",
      "3       1       47     5.0  964983815\n",
      "4       1       50     5.0  964982931\n",
      "5 dòng dữ liệu đầu tiên của tags:\n",
      "   userId  movieId              tag   timestamp\n",
      "0       2    60756            funny  1445714994\n",
      "1       2    60756  Highly quotable  1445714996\n",
      "2       2    60756     will ferrell  1445714992\n",
      "3       2    89774     Boxing story  1445715207\n",
      "4       2    89774              MMA  1445715200\n"
     ]
    }
   ],
   "source": [
    "import pandas as pd\n",
    "\n",
    "\n",
    "movies = pd.read_csv('ml-latest-small/movies.csv')\n",
    "ratings = pd.read_csv('ml-latest-small/ratings.csv')\n",
    "tags = pd.read_csv('ml-latest-small/tags.csv')\n",
    "\n",
    "\n",
    "print(\"5 dòng dữ liệu đầu tiên của movies:\")\n",
    "print(movies.head())\n",
    "\n",
    "print(\"5 dòng dữ liệu đầu tiên của ratings:\")\n",
    "print(ratings.head())\n",
    "\n",
    "print(\"5 dòng dữ liệu đầu tiên của tags:\")\n",
    "print(tags.head())\n"
   ]
  },
  {
   "cell_type": "code",
   "execution_count": 3,
   "metadata": {},
   "outputs": [
    {
     "name": "stdout",
     "output_type": "stream",
     "text": [
      "\n",
      "Giá trị bị thiếu trong movies:\n",
      "movieId    0\n",
      "title      0\n",
      "genres     0\n",
      "dtype: int64\n",
      "\n",
      "Giá trị bị thiếu trong ratings:\n",
      "userId       0\n",
      "movieId      0\n",
      "rating       0\n",
      "timestamp    0\n",
      "dtype: int64\n",
      "\n",
      "Giá trị bị thiếu trong tags:\n",
      "userId       0\n",
      "movieId      0\n",
      "tag          0\n",
      "timestamp    0\n",
      "dtype: int64\n"
     ]
    }
   ],
   "source": [
    "\n",
    "print(\"\\nGiá trị bị thiếu trong movies:\")\n",
    "print(movies.isnull().sum())\n",
    "\n",
    "print(\"\\nGiá trị bị thiếu trong ratings:\")\n",
    "print(ratings.isnull().sum())\n",
    "\n",
    "print(\"\\nGiá trị bị thiếu trong tags:\")\n",
    "print(tags.isnull().sum())\n",
    "\n",
    "movies.dropna(inplace=True)\n",
    "ratings.dropna(inplace=True)\n",
    "tags.dropna(inplace=True)\n"
   ]
  },
  {
   "cell_type": "code",
   "execution_count": 4,
   "metadata": {},
   "outputs": [
    {
     "name": "stdout",
     "output_type": "stream",
     "text": [
      "\n",
      "5 dòng dữ liệu đầu tiên của movies_ratings_tags:\n",
      "   movieId             title                                       genres  \\\n",
      "0        1  Toy Story (1995)  Adventure|Animation|Children|Comedy|Fantasy   \n",
      "1        1  Toy Story (1995)  Adventure|Animation|Children|Comedy|Fantasy   \n",
      "2        1  Toy Story (1995)  Adventure|Animation|Children|Comedy|Fantasy   \n",
      "3        1  Toy Story (1995)  Adventure|Animation|Children|Comedy|Fantasy   \n",
      "4        1  Toy Story (1995)  Adventure|Animation|Children|Comedy|Fantasy   \n",
      "\n",
      "   userId  rating  timestamp_x  tag  timestamp_y  \n",
      "0       1     4.0    964982703  NaN          NaN  \n",
      "1       5     4.0    847434962  NaN          NaN  \n",
      "2       7     4.5   1106635946  NaN          NaN  \n",
      "3      15     2.5   1510577970  NaN          NaN  \n",
      "4      17     4.5   1305696483  NaN          NaN  \n"
     ]
    }
   ],
   "source": [
    "\n",
    "movies_ratings = pd.merge(movies, ratings, on='movieId')\n",
    "\n",
    "movies_ratings_tags = pd.merge(movies_ratings, tags, on=['movieId', 'userId'], how='left')\n",
    "\n",
    "print(\"\\n5 dòng dữ liệu đầu tiên của movies_ratings_tags:\")\n",
    "print(movies_ratings_tags.head())\n"
   ]
  },
  {
   "cell_type": "code",
   "execution_count": 5,
   "metadata": {},
   "outputs": [
    {
     "name": "stdout",
     "output_type": "stream",
     "text": [
      "\n",
      "5 dòng dữ liệu đầu tiên của các phim được đánh giá 5 sao:\n",
      "    movieId             title                                       genres  \\\n",
      "9         1  Toy Story (1995)  Adventure|Animation|Children|Comedy|Fantasy   \n",
      "12        1  Toy Story (1995)  Adventure|Animation|Children|Comedy|Fantasy   \n",
      "13        1  Toy Story (1995)  Adventure|Animation|Children|Comedy|Fantasy   \n",
      "16        1  Toy Story (1995)  Adventure|Animation|Children|Comedy|Fantasy   \n",
      "19        1  Toy Story (1995)  Adventure|Animation|Children|Comedy|Fantasy   \n",
      "\n",
      "    userId  rating  timestamp_x  tag  timestamp_y  \n",
      "9       31     5.0    850466616  NaN          NaN  \n",
      "12      40     5.0    832058959  NaN          NaN  \n",
      "13      43     5.0    848993983  NaN          NaN  \n",
      "16      46     5.0    834787906  NaN          NaN  \n",
      "19      57     5.0    965796031  NaN          NaN  \n"
     ]
    }
   ],
   "source": [
    "\n",
    "five_star_movies = movies_ratings_tags[movies_ratings_tags['rating'] == 5.0]\n",
    "\n",
    "print(\"\\n5 dòng dữ liệu đầu tiên của các phim được đánh giá 5 sao:\")\n",
    "print(five_star_movies.head())\n"
   ]
  },
  {
   "cell_type": "code",
   "execution_count": 6,
   "metadata": {},
   "outputs": [
    {
     "name": "stdout",
     "output_type": "stream",
     "text": [
      "\n",
      "Thống kê số lượng phim theo thể loại:\n",
      "Drama                 4361\n",
      "Comedy                3756\n",
      "Thriller              1894\n",
      "Action                1828\n",
      "Romance               1596\n",
      "Adventure             1263\n",
      "Crime                 1199\n",
      "Sci-Fi                 980\n",
      "Horror                 978\n",
      "Fantasy                779\n",
      "Children               664\n",
      "Animation              611\n",
      "Mystery                573\n",
      "Documentary            440\n",
      "War                    382\n",
      "Musical                334\n",
      "Western                167\n",
      "IMAX                   158\n",
      "Film-Noir               87\n",
      "(no genres listed)      34\n",
      "dtype: int64\n"
     ]
    }
   ],
   "source": [
    "\n",
    "genre_stats = movies['genres'].str.get_dummies('|').sum().sort_values(ascending=False)\n",
    "\n",
    "print(\"\\nThống kê số lượng phim theo thể loại:\")\n",
    "print(genre_stats)\n"
   ]
  },
  {
   "cell_type": "code",
   "execution_count": 7,
   "metadata": {},
   "outputs": [
    {
     "name": "stdout",
     "output_type": "stream",
     "text": [
      "\n",
      "5 dòng dữ liệu đầu tiên của ratings sau khi chuyển đổi timestamp:\n",
      "   userId  movieId  rating           timestamp\n",
      "0       1        1     4.0 2000-07-30 18:45:03\n",
      "1       1        3     4.0 2000-07-30 18:20:47\n",
      "2       1        6     4.0 2000-07-30 18:37:04\n",
      "3       1       47     5.0 2000-07-30 19:03:35\n",
      "4       1       50     5.0 2000-07-30 18:48:51\n",
      "\n",
      "5 dòng dữ liệu đầu tiên của tags sau khi chuyển đổi timestamp:\n",
      "   userId  movieId              tag           timestamp\n",
      "0       2    60756            funny 2015-10-24 19:29:54\n",
      "1       2    60756  Highly quotable 2015-10-24 19:29:56\n",
      "2       2    60756     will ferrell 2015-10-24 19:29:52\n",
      "3       2    89774     Boxing story 2015-10-24 19:33:27\n",
      "4       2    89774              MMA 2015-10-24 19:33:20\n"
     ]
    }
   ],
   "source": [
    "\n",
    "ratings['timestamp'] = pd.to_datetime(ratings['timestamp'], unit='s')\n",
    "tags['timestamp'] = pd.to_datetime(tags['timestamp'], unit='s')\n",
    "\n",
    "print(\"\\n5 dòng dữ liệu đầu tiên của ratings sau khi chuyển đổi timestamp:\")\n",
    "print(ratings.head())\n",
    "\n",
    "print(\"\\n5 dòng dữ liệu đầu tiên của tags sau khi chuyển đổi timestamp:\")\n",
    "print(tags.head())\n"
   ]
  }
 ],
 "metadata": {
  "kernelspec": {
   "display_name": "base",
   "language": "python",
   "name": "python3"
  },
  "language_info": {
   "codemirror_mode": {
    "name": "ipython",
    "version": 3
   },
   "file_extension": ".py",
   "mimetype": "text/x-python",
   "name": "python",
   "nbconvert_exporter": "python",
   "pygments_lexer": "ipython3",
   "version": "3.12.4"
  }
 },
 "nbformat": 4,
 "nbformat_minor": 2
}
