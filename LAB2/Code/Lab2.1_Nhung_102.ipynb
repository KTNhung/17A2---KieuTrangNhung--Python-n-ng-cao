{
 "cells": [
  {
   "cell_type": "code",
   "execution_count": 1,
   "metadata": {},
   "outputs": [],
   "source": [
    "import numpy as np "
   ]
  },
  {
   "cell_type": "markdown",
   "metadata": {},
   "source": [
    "1. Tạo dữ liệu mô phỏng"
   ]
  },
  {
   "cell_type": "code",
   "execution_count": 2,
   "metadata": {},
   "outputs": [
    {
     "data": {
      "text/plain": [
       "array([34.78, 25.99, 20.63, 16.55, 23.89, 24.46, 15.97, 18.27, 17.32,\n",
       "       27.55, 32.12, 28.  , 34.81, 24.41, 27.37, 20.65, 34.52, 28.46,\n",
       "       23.81, 20.79, 25.19, 17.25, 19.54, 24.57, 19.86, 22.76, 31.38,\n",
       "       16.49, 33.46, 19.5 ])"
      ]
     },
     "execution_count": 2,
     "metadata": {},
     "output_type": "execute_result"
    }
   ],
   "source": [
    "np.random.seed(45)\n",
    "nhiet_do = np.round(np.random.uniform(low=15.0, high=35.0, size=30), 2)\n",
    "nhiet_do"
   ]
  },
  {
   "cell_type": "markdown",
   "metadata": {},
   "source": [
    "Nhiệt độ trung bình\n"
   ]
  },
  {
   "cell_type": "code",
   "execution_count": 3,
   "metadata": {},
   "outputs": [
    {
     "name": "stdout",
     "output_type": "stream",
     "text": [
      "Nhiệt độ trung bình trong tháng: 24.345000000000002\n"
     ]
    }
   ],
   "source": [
    "print(\"Nhiệt độ trung bình trong tháng:\", nhiet_do.mean())"
   ]
  },
  {
   "cell_type": "markdown",
   "metadata": {},
   "source": [
    "2. Phân tích xu hướng nhiệt độ"
   ]
  },
  {
   "cell_type": "code",
   "execution_count": 4,
   "metadata": {},
   "outputs": [
    {
     "name": "stdout",
     "output_type": "stream",
     "text": [
      "Nhiệt độ cao nhất trong ngày: 34.81\n",
      "Nhiệt độ thấp nhất trong ngày: 15.97\n",
      "Ngày có nhiệt độ cao nhất: 13\n",
      "Ngày có nhiệt độ thấp nhất: 7\n"
     ]
    }
   ],
   "source": [
    "print(\"Nhiệt độ cao nhất trong ngày:\", nhiet_do.max())\n",
    "print(\"Nhiệt độ thấp nhất trong ngày:\", nhiet_do.min())\n",
    "print(\"Ngày có nhiệt độ cao nhất:\", nhiet_do.argmax() +1 )\n",
    "print(\"Ngày có nhiệt độ thấp nhất:\", nhiet_do.argmin() +1)"
   ]
  },
  {
   "cell_type": "markdown",
   "metadata": {},
   "source": [
    "Thống kê sự chênh lệch nhiệt độ\n"
   ]
  },
  {
   "cell_type": "code",
   "execution_count": 5,
   "metadata": {},
   "outputs": [
    {
     "name": "stdout",
     "output_type": "stream",
     "text": [
      "Chênh lệch nhiệt độ cao nhất là: 16.970000000000002\n",
      "Ngày chênh lệch cao nhất 28\n"
     ]
    }
   ],
   "source": [
    "#tạo mảng chứa nhiệt độ ngày hôm trước (trừ ngày cuối cùng)\n",
    "ngay_truoc = nhiet_do[:-1]\n",
    "\n",
    "#Tạo mảng chứa nhiệt độ ngày hôm sau (trừ ngày đầu)\n",
    "ngay_sau = nhiet_do[1:]\n",
    "\n",
    "#Tính toán sự chênh lệch nhiệt độ giữa ngày hôm sau và ngày hôm trước\n",
    "chenh_lech = ngay_sau - ngay_truoc\n",
    "\n",
    "#Xác định ngày có sự chênh lệch nhiệt độ lớn nhất\n",
    "dff_max = chenh_lech.argmax() +1  # + 1 vì ngày đầu tiên bắt đầu từ 1\n",
    "max_chenh_lech = chenh_lech[dff_max - 1]\n",
    "\n",
    "print(\"Chênh lệch nhiệt độ cao nhất là:\", max_chenh_lech)\n",
    "print(\"Ngày chênh lệch cao nhất\", dff_max)"
   ]
  },
  {
   "cell_type": "markdown",
   "metadata": {},
   "source": [
    "3. Áp dụng Fancy Indexing\n"
   ]
  },
  {
   "cell_type": "markdown",
   "metadata": {},
   "source": [
    "a. Tất cả các ngày có nhiệt độ cao hơn 20 độ\n"
   ]
  },
  {
   "cell_type": "code",
   "execution_count": 6,
   "metadata": {},
   "outputs": [
    {
     "data": {
      "text/plain": [
       "array([ 1,  2,  3,  5,  6, 10, 11, 12, 13, 14, 15, 16, 17, 18, 19, 20, 21,\n",
       "       24, 26, 27, 29], dtype=int64)"
      ]
     },
     "execution_count": 6,
     "metadata": {},
     "output_type": "execute_result"
    }
   ],
   "source": [
    "#Kiểm tra điều kiện nhiệt độ cao hơn 20 độ C\n",
    "condition = nhiet_do > 20\n",
    "\n",
    "#Sử dụng np.where để tìm chỉ số của các phần tử thỏa mãn điều kiện\n",
    "indices = np.where(condition)\n",
    "\n",
    "#Lấy chỉ số đầu tiên (vì np.where trả về tuple)\n",
    "day_indices = indices[0]\n",
    "\n",
    "#Chỉnh chỉ số để phù hợp với đánh số ngày (bắt đầu)\n",
    "day_above_20_separated = day_indices + 1 \n",
    "\n",
    "day_above_20_separated\n"
   ]
  },
  {
   "cell_type": "markdown",
   "metadata": {},
   "source": [
    "b. Lấy nhiệt độ của ngày 5, 10, 15, 20, 25"
   ]
  },
  {
   "cell_type": "code",
   "execution_count": 7,
   "metadata": {},
   "outputs": [
    {
     "name": "stdout",
     "output_type": "stream",
     "text": [
      "Nhiệt độ của các ngày 5, 10, 15, 20, 25:\n",
      "[23.89 27.55 27.37 20.79 19.86]\n"
     ]
    }
   ],
   "source": [
    "ngay = [5, 10, 15, 20, 25]\n",
    "nhiet_do_ngay = nhiet_do[np.array(ngay) - 1] # -1 vì chỉ số python bắt đầu từ 0\n",
    "print(\"Nhiệt độ của các ngày 5, 10, 15, 20, 25:\")\n",
    "print(nhiet_do_ngay)"
   ]
  },
  {
   "cell_type": "markdown",
   "metadata": {},
   "source": [
    "c. Tìm nhiệt độ các ngày có nhiệt độ trên trung bình\n"
   ]
  },
  {
   "cell_type": "code",
   "execution_count": 8,
   "metadata": {},
   "outputs": [
    {
     "name": "stdout",
     "output_type": "stream",
     "text": [
      "Các ngày có nhiệt độ trên trung bình:\n",
      "[ 1  2  6 10 11 12 13 14 15 17 18 21 24 27 29]\n"
     ]
    }
   ],
   "source": [
    "tren_tb = np.where(nhiet_do > nhiet_do.mean())[0] + 1\n",
    "print(\"Các ngày có nhiệt độ trên trung bình:\")\n",
    "print(tren_tb)"
   ]
  },
  {
   "cell_type": "markdown",
   "metadata": {},
   "source": [
    "d. Lấy nhiệt độ các ngày chẵn/ lẻ gtrong tháng"
   ]
  },
  {
   "cell_type": "code",
   "execution_count": 9,
   "metadata": {},
   "outputs": [
    {
     "name": "stdout",
     "output_type": "stream",
     "text": [
      "Nhiệt độ ngày chẵn:\n",
      "[25.99 16.55 24.46 18.27 27.55 28.   24.41 20.65 28.46 20.79 17.25 24.57\n",
      " 22.76 16.49 19.5 ]\n",
      "\n",
      " Nhiệt độ ngày lẻ:\n",
      "[34.78 20.63 23.89 15.97 17.32 32.12 34.81 27.37 34.52 23.81 25.19 19.54\n",
      " 19.86 31.38 33.46]\n"
     ]
    }
   ],
   "source": [
    "ngay_chan = nhiet_do[1::2] #ngày chẵn: bắt đầu từ index 1 (ngày 2) và nhảy 2 bước\n",
    "ngay_le = nhiet_do[0::2] #Ngày lẻ: bắt đầu từ index 0 (ngày 1) và nhảy 2 bước\n",
    "print(\"Nhiệt độ ngày chẵn:\")\n",
    "print(ngay_chan)\n",
    "\n",
    "print(\"\\n Nhiệt độ ngày lẻ:\")\n",
    "print(ngay_le)"
   ]
  }
 ],
 "metadata": {
  "kernelspec": {
   "display_name": "base",
   "language": "python",
   "name": "python3"
  },
  "language_info": {
   "codemirror_mode": {
    "name": "ipython",
    "version": 3
   },
   "file_extension": ".py",
   "mimetype": "text/x-python",
   "name": "python",
   "nbconvert_exporter": "python",
   "pygments_lexer": "ipython3",
   "version": "3.12.4"
  }
 },
 "nbformat": 4,
 "nbformat_minor": 2
}
