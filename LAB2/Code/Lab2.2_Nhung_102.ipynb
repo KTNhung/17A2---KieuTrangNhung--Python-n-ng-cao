{
 "cells": [
  {
   "cell_type": "code",
   "execution_count": 2,
   "metadata": {},
   "outputs": [],
   "source": [
    "import csv\n",
    "import numpy as np "
   ]
  },
  {
   "cell_type": "code",
   "execution_count": 3,
   "metadata": {},
   "outputs": [
    {
     "name": "stdout",
     "output_type": "stream",
     "text": [
      "[[3.04, 3.39, 6.7], [5.8, 6.41, 6.62], [2.59, 3.57, 9.16], [3.81, 8.78, 9.24], [8.91, 9.64, 6.39]]\n"
     ]
    }
   ],
   "source": [
    "file_path = \"D:\\\\Năm 2 (2024 - 20250\\\\Python nâng cao\\\\Bài tập\\\\LAB2\\\\DATA\\\\diem_hoc_phan.csv\"\n",
    "data = []\n",
    "\n",
    "with open(file_path, newline = '', encoding='utf-8') as csvfile:\n",
    "    reader = csv.reader(csvfile)\n",
    "    next(reader) #Bỏ qua hàng đầu tiên (Tiêu đề cột)\n",
    "    '''\n",
    "    Xử lý dữ liệu từ mỗi hàng: Với mỗi hàng row trong file csv,\n",
    "    code sẽ lấy phần tử từ chỉ số 2 trở đi\n",
    "    Điều này tương ứng với việc bỏ qua cột\n",
    "    '''\n",
    "\n",
    "    for row in reader:\n",
    "        #Chuyeernd dổi điểm số từ string sang float\n",
    "        data.append([float(score) for score in row[2:]])\n",
    "\n",
    "#Hiển thị 5 dòng đầu\n",
    "print(data[:5])\n"
   ]
  },
  {
   "cell_type": "markdown",
   "metadata": {},
   "source": [
    "2. Qui đổi điểm tín chỉ\n"
   ]
  },
  {
   "cell_type": "code",
   "execution_count": 4,
   "metadata": {},
   "outputs": [
    {
     "name": "stdout",
     "output_type": "stream",
     "text": [
      "[[3.04, 3.39, 6.7], [5.8, 6.41, 6.62], [2.59, 3.57, 9.16], [3.81, 8.78, 9.24], [8.91, 9.64, 6.39], [3.23, 4.72, 6.17], [2.35, 3.29, 6.89], [2.48, 3.81, 4.84], [3.23, 2.61, 4.52], [7.02, 9.01, 9.15], [2.29, 4.48, 5.51], [3.51, 7.19, 5.13], [6.74, 7.78, 6.19], [9.86, 4.64, 3.33], [8.04, 5.12, 4.77], [2.74, 8.88, 5.8], [3.04, 6.88, 3.91], [5.87, 4.41, 8.84], [8.46, 2.63, 4.91], [3.74, 6.71, 3.44], [5.67, 8.05, 6.03], [8.12, 2.46, 3.87], [9.4, 5.31, 5.13], [3.91, 5.09, 8.82], [4.26, 5.78, 8.14], [4.41, 2.66, 5.4], [3.23, 8.3, 8.64], [9.25, 8.29, 9.1], [6.08, 2.67, 6.39], [3.85, 7.71, 5.75]]\n"
     ]
    },
    {
     "data": {
      "text/plain": [
       "array([[3.04, 3.39, 6.7 ],\n",
       "       [5.8 , 6.41, 6.62],\n",
       "       [2.59, 3.57, 9.16],\n",
       "       [3.81, 8.78, 9.24],\n",
       "       [8.91, 9.64, 6.39]])"
      ]
     },
     "execution_count": 4,
     "metadata": {},
     "output_type": "execute_result"
    }
   ],
   "source": [
    "\n",
    "print(data)\n",
    "diem_hp_array = np.array(data)\n",
    "diem_hp_array[:5]\n"
   ]
  },
  {
   "cell_type": "code",
   "execution_count": 5,
   "metadata": {},
   "outputs": [
    {
     "data": {
      "text/plain": [
       "array([['F', 'F', 'C+'],\n",
       "       ['C', 'F', 'C+'],\n",
       "       ['F', 'F', 'A'],\n",
       "       ['F', 'A', 'A'],\n",
       "       ['A', 'A', 'F']], dtype='<U2')"
      ]
     },
     "execution_count": 5,
     "metadata": {},
     "output_type": "execute_result"
    }
   ],
   "source": [
    "def chuyen_diem(score):\n",
    "    \"\"\"Chuyển đổi điểm số sang điểm chữ theo tiêu chí đã cho\"\"\"\n",
    "    if 8.5 <= score <= 10:\n",
    "        return \"A\"\n",
    "    elif 8.0 <= score < 8.5:\n",
    "        return \"B+\"\n",
    "    elif 7.0 <= score < 8.0:\n",
    "        return \"B\"\n",
    "    elif 6.5 <= score < 7.0:\n",
    "        return \"C+\"\n",
    "    elif 5.5 <= score < 6.0:\n",
    "        return \"C\"\n",
    "    elif 5.0 <= score < 5.5:\n",
    "        return \"D+\"\n",
    "    elif 4.0 <= score < 5.0:\n",
    "        return \"D\"\n",
    "    else:\n",
    "        return \"F\"\n",
    "#Áp dụng hàm quy đổi cho mõi điểm số trong mảng\n",
    "diem_converted = np.vectorize(chuyen_diem)(diem_hp_array)\n",
    "\n",
    "diem_converted[:5]"
   ]
  },
  {
   "cell_type": "markdown",
   "metadata": {},
   "source": [
    "Chia tách dữ liệu để phân tích điểm số của mỗi học phần riêng biệt"
   ]
  },
  {
   "cell_type": "code",
   "execution_count": 6,
   "metadata": {},
   "outputs": [],
   "source": [
    "hp1_scores = diem_hp_array[:, 0]\n",
    "hp2_scores = diem_hp_array[:, 1]\n",
    "hp3_scores = diem_hp_array[:, 2]"
   ]
  },
  {
   "cell_type": "code",
   "execution_count": 7,
   "metadata": {},
   "outputs": [
    {
     "data": {
      "text/plain": [
       "array([[3.04, 3.39, 6.7 ],\n",
       "       [5.8 , 6.41, 6.62],\n",
       "       [2.59, 3.57, 9.16],\n",
       "       [3.81, 8.78, 9.24],\n",
       "       [8.91, 9.64, 6.39]])"
      ]
     },
     "execution_count": 7,
     "metadata": {},
     "output_type": "execute_result"
    }
   ],
   "source": [
    "diem_hp_array[:5]\n"
   ]
  },
  {
   "cell_type": "code",
   "execution_count": 8,
   "metadata": {},
   "outputs": [
    {
     "data": {
      "text/plain": [
       "array([3.04, 5.8 , 2.59, 3.81, 8.91, 3.23, 2.35, 2.48, 3.23, 7.02, 2.29,\n",
       "       3.51, 6.74, 9.86, 8.04, 2.74, 3.04, 5.87, 8.46, 3.74, 5.67, 8.12,\n",
       "       9.4 , 3.91, 4.26, 4.41, 3.23, 9.25, 6.08, 3.85])"
      ]
     },
     "execution_count": 8,
     "metadata": {},
     "output_type": "execute_result"
    }
   ],
   "source": [
    "hp1_scores"
   ]
  },
  {
   "cell_type": "markdown",
   "metadata": {},
   "source": [
    "Phân tích dữ liệu điểm số cho mỗi học phần\n"
   ]
  },
  {
   "cell_type": "code",
   "execution_count": 9,
   "metadata": {},
   "outputs": [],
   "source": [
    "hp1_stats = (np.sum(hp1_scores), np.mean(hp1_scores), np.std(hp1_scores))\n",
    "hp2_stats = (np.sum(hp2_scores), np.mean(hp2_scores), np.std(hp2_scores))\n",
    "hp3_stats = (np.sum(hp3_scores), np.mean(hp3_scores), np.std(hp3_scores))"
   ]
  },
  {
   "cell_type": "code",
   "execution_count": 10,
   "metadata": {},
   "outputs": [
    {
     "name": "stdout",
     "output_type": "stream",
     "text": [
      "(154.92999999999998, 5.1643333333333326, 2.4078519934211533)\n"
     ]
    }
   ],
   "source": [
    "print(hp1_stats)"
   ]
  },
  {
   "cell_type": "code",
   "execution_count": 11,
   "metadata": {},
   "outputs": [
    {
     "name": "stdout",
     "output_type": "stream",
     "text": [
      "Học phần 1:\n",
      "Tổng điểm: 154.93\n",
      "Điểm trung bình: 5.16\n",
      "Độ lệch chuẩn: 2.41\n"
     ]
    }
   ],
   "source": [
    "print(\"Học phần 1:\")\n",
    "print(f\"Tổng điểm: {hp1_stats[0]:.2f}\")\n",
    "print(f\"Điểm trung bình: {hp1_stats[1]:.2f}\")\n",
    "print(f\"Độ lệch chuẩn: {hp1_stats[2]:.2f}\")"
   ]
  },
  {
   "cell_type": "code",
   "execution_count": 12,
   "metadata": {},
   "outputs": [
    {
     "name": "stdout",
     "output_type": "stream",
     "text": [
      "Học phần 2:\n",
      "Tổng điểm: 170.27\n",
      "Điểm trung bình: 5.68\n",
      "Độ lệch chuẩn: 2.25\n"
     ]
    }
   ],
   "source": [
    "print(\"Học phần 2:\")\n",
    "print(f\"Tổng điểm: {hp2_stats[0]:.2f}\")\n",
    "print(f\"Điểm trung bình: {hp2_stats[1]:.2f}\")\n",
    "print(f\"Độ lệch chuẩn: {hp2_stats[2]:.2f}\")"
   ]
  },
  {
   "cell_type": "code",
   "execution_count": 13,
   "metadata": {},
   "outputs": [
    {
     "name": "stdout",
     "output_type": "stream",
     "text": [
      "Học phần 3:\n",
      "Tổng điểm: 188.78\n",
      "Điểm trung bình: 6.29\n",
      "Độ lệch chuẩn: 1.81\n"
     ]
    }
   ],
   "source": [
    "print(\"Học phần 3:\")\n",
    "print(f\"Tổng điểm: {hp3_stats[0]:.2f}\")\n",
    "print(f\"Điểm trung bình: {hp3_stats[1]:.2f}\")\n",
    "print(f\"Độ lệch chuẩn: {hp3_stats[2]:.2f}\")"
   ]
  },
  {
   "cell_type": "markdown",
   "metadata": {},
   "source": [
    "4. Phân tích tổng quan cho toàn bộ lớp học\n"
   ]
  },
  {
   "cell_type": "code",
   "execution_count": 14,
   "metadata": {},
   "outputs": [
    {
     "data": {
      "text/plain": [
       "(513.98, 5.710888888888889, 2.2185594146975665)"
      ]
     },
     "execution_count": 14,
     "metadata": {},
     "output_type": "execute_result"
    }
   ],
   "source": [
    "#Tính toán cho toàn lớp\n",
    "tong_diem_all = np.sum(diem_hp_array)\n",
    "diem_tb_all = np.mean(diem_hp_array)\n",
    "std_deviation_all = np.std(diem_hp_array)\n",
    "\n",
    "tong_diem_all, diem_tb_all, std_deviation_all"
   ]
  },
  {
   "cell_type": "code",
   "execution_count": 15,
   "metadata": {},
   "outputs": [
    {
     "name": "stdout",
     "output_type": "stream",
     "text": [
      "Tổng điểm của toàn lớp (cho tất cả học phần): 513.98\n",
      "Điểm trung bình của toàn lớp (cho tất cả học phần): 5.710888888888889\n",
      "Độ lệch chuẩn của toàn lớp: 2.2185594146975665\n"
     ]
    }
   ],
   "source": [
    "print(\"Tổng điểm của toàn lớp (cho tất cả học phần):\", tong_diem_all)\n",
    "print(\"Điểm trung bình của toàn lớp (cho tất cả học phần):\", diem_tb_all)\n",
    "print(\"Độ lệch chuẩn của toàn lớp:\", std_deviation_all)"
   ]
  }
 ],
 "metadata": {
  "kernelspec": {
   "display_name": "base",
   "language": "python",
   "name": "python3"
  },
  "language_info": {
   "codemirror_mode": {
    "name": "ipython",
    "version": 3
   },
   "file_extension": ".py",
   "mimetype": "text/x-python",
   "name": "python",
   "nbconvert_exporter": "python",
   "pygments_lexer": "ipython3",
   "version": "3.12.4"
  }
 },
 "nbformat": 4,
 "nbformat_minor": 2
}
