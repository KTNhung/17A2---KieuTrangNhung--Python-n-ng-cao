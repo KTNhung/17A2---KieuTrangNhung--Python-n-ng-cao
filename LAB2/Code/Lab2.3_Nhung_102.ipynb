{
 "cells": [
  {
   "cell_type": "markdown",
   "metadata": {},
   "source": [
    "1. Đọc dữ liệu từ tập tin"
   ]
  },
  {
   "cell_type": "code",
   "execution_count": 13,
   "metadata": {},
   "outputs": [],
   "source": [
    "import numpy as np "
   ]
  },
  {
   "cell_type": "code",
   "execution_count": 14,
   "metadata": {},
   "outputs": [
    {
     "name": "stderr",
     "output_type": "stream",
     "text": [
      "<>:2: SyntaxWarning: invalid escape sequence '\\P'\n",
      "<>:3: SyntaxWarning: invalid escape sequence '\\P'\n",
      "<>:2: SyntaxWarning: invalid escape sequence '\\P'\n",
      "<>:3: SyntaxWarning: invalid escape sequence '\\P'\n",
      "D:\\TEMP\\ipykernel_9272\\2706450075.py:2: SyntaxWarning: invalid escape sequence '\\P'\n",
      "  path_1 = \"D:\\\\Năm 2 (2024 - 20250\\Python nâng cao\\\\Bài tập\\\\LAB2//DATA\\\\efficiency.txt\"\n",
      "D:\\TEMP\\ipykernel_9272\\2706450075.py:3: SyntaxWarning: invalid escape sequence '\\P'\n",
      "  path_2 = \"D:\\\\Năm 2 (2024 - 20250\\Python nâng cao\\\\Bài tập\\\\LAB2\\DATA\\\\shifts.txt\"\n"
     ]
    },
    {
     "data": {
      "text/plain": [
       "['Afternoon', 'Afternoon', 'Afternoon', 'Morning', 'Afternoon']"
      ]
     },
     "execution_count": 14,
     "metadata": {},
     "output_type": "execute_result"
    }
   ],
   "source": [
    "#Giả sử dữ liệu được lưu trữ ở 2 đường dẫn\n",
    "path_1 = \"D:\\\\Năm 2 (2024 - 20250\\Python nâng cao\\\\Bài tập\\\\LAB2//DATA\\\\efficiency.txt\"\n",
    "path_2 = \"D:\\\\Năm 2 (2024 - 20250\\Python nâng cao\\\\Bài tập\\\\LAB2\\DATA\\\\shifts.txt\"\n",
    "\n",
    "#Đọc dữ liệu hiệu suất từ \"efficiency.txt\"\n",
    "efficiency = []\n",
    "with open(path_1, 'r') as file:\n",
    "    for line in file:\n",
    "        efficiency.append(float(line.strip()))\n",
    "\n",
    "shifts = []\n",
    "with open(path_2, 'r') as file:\n",
    "    for line in file:\n",
    "        shifts.append(line.strip())\n",
    "\n",
    "#Hiển thị một phần tử để kiểm tra\n",
    "efficiency[:5]\n",
    "shifts[:5]"
   ]
  },
  {
   "cell_type": "markdown",
   "metadata": {},
   "source": [
    "2. Tạo numpy array np_shifts  và np_fficiency từ list shifts và kiểm tra kiểu dữ liệu"
   ]
  },
  {
   "cell_type": "code",
   "execution_count": 15,
   "metadata": {},
   "outputs": [
    {
     "data": {
      "text/plain": [
       "dtype('<U9')"
      ]
     },
     "execution_count": 15,
     "metadata": {},
     "output_type": "execute_result"
    }
   ],
   "source": [
    "import numpy as np \n",
    "np_shifts = np.array(shifts)\n",
    "np_shifts.dtype"
   ]
  },
  {
   "cell_type": "code",
   "execution_count": 16,
   "metadata": {},
   "outputs": [
    {
     "data": {
      "text/plain": [
       "dtype('float64')"
      ]
     },
     "execution_count": 16,
     "metadata": {},
     "output_type": "execute_result"
    }
   ],
   "source": [
    "np_efficiency = np.array(efficiency)\n",
    "np_efficiency.dtype"
   ]
  },
  {
   "cell_type": "markdown",
   "metadata": {},
   "source": [
    "4. Tính toán hiệu suất trung bình của những nhân viên làm việc vào ca \"Morning\"."
   ]
  },
  {
   "cell_type": "code",
   "execution_count": 18,
   "metadata": {},
   "outputs": [
    {
     "data": {
      "text/plain": [
       "96.8529411764706"
      ]
     },
     "execution_count": 18,
     "metadata": {},
     "output_type": "execute_result"
    }
   ],
   "source": [
    "#Tạo ra một mặt nạ \"mask\" (mảng Boolean) từ mảng np_shifts.\n",
    "#nơi mỗi phần tử có giá trị True nếu nhân viên tương ứng làm việc \n",
    "#vào ca \"Morning\" và False nếu không phải\n",
    "morning_mask = np_shifts == \"Morning\"\n",
    "\n",
    "#Lọc dữ liệu và hiệu suất ca \"Morning\"\n",
    "hieu_suat_morning = np_efficiency[morning_mask]\n",
    "\n",
    "#Tính hiệu suất trung bình\n",
    "hieu_suat_morning = np.mean(hieu_suat_morning)\n",
    "hieu_suat_morning"
   ]
  },
  {
   "cell_type": "markdown",
   "metadata": {},
   "source": [
    "5. Tính hiệu suất trung bình của các ca không phải Morning"
   ]
  },
  {
   "cell_type": "code",
   "execution_count": 20,
   "metadata": {},
   "outputs": [
    {
     "name": "stdout",
     "output_type": "stream",
     "text": [
      "Hiệu suất trung bình ca không phải Morning: 98.93939393939394\n"
     ]
    }
   ],
   "source": [
    "non_morning_mask = np_shifts != \"Morning\"\n",
    "hieu_suat_non_morning = np_efficiency[non_morning_mask]\n",
    "hieu_suat_TB_non_morning = np.mean(hieu_suat_non_morning)\n",
    "print(\"Hiệu suất trung bình ca không phải Morning:\", hieu_suat_TB_non_morning)"
   ]
  },
  {
   "cell_type": "markdown",
   "metadata": {},
   "source": [
    "6. Tạo mảng dữ liệu có cấu trúc 'worker' gồm 'shift' (kiểu văn bản U10) và 'efficiency' (Kiểu 'float')"
   ]
  },
  {
   "cell_type": "code",
   "execution_count": 21,
   "metadata": {},
   "outputs": [
    {
     "name": "stdout",
     "output_type": "stream",
     "text": [
      "Workers data: [('Afternoon',  94.) ('Afternoon',  97.) ('Afternoon', 114.)\n",
      " ('Morning', 117.) ('Afternoon', 117.)]\n"
     ]
    }
   ],
   "source": [
    "#Định nghĩa kiểu dữ liệu có mảng có cấu trúc\n",
    "dtype = [('shift', 'U10'), ('efficiency', float)]\n",
    "\n",
    "#Tạo mảng có cấu trúc (structure array) từ dữ liệu hiệu suất và ca làm việc\n",
    "#Hàm zip được sử dụng để kết hipwj các phần tử từ hai danh sách.\n",
    "#(hoặc các cấu trúc dữ liệu tương tự) shifts và efficiency\n",
    "#Sau đó list sẽ chuyển đổi kết quả từ zip thành một danh sách --> np.array\n",
    "#thành mảng, Tham số dtype chỉ định kiểu dữ liệu cho mảng. \n",
    "\n",
    "dtype = [('shift', 'U10'), ('efficiency', 'float')]\n",
    "workers = np.array(list(zip(np_shifts, np_efficiency)), dtype=dtype)\n",
    "\n",
    "# Kiểm tra dữ liệu trong mảng cấu trúc\n",
    "print(\"Workers data:\", workers[:5])  # Hiển thị 5 phần tử đầu tiên"
   ]
  }
 ],
 "metadata": {
  "kernelspec": {
   "display_name": "base",
   "language": "python",
   "name": "python3"
  },
  "language_info": {
   "codemirror_mode": {
    "name": "ipython",
    "version": 3
   },
   "file_extension": ".py",
   "mimetype": "text/x-python",
   "name": "python",
   "nbconvert_exporter": "python",
   "pygments_lexer": "ipython3",
   "version": "3.12.4"
  }
 },
 "nbformat": 4,
 "nbformat_minor": 2
}
